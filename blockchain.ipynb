{
 "cells": [
  {
   "cell_type": "code",
   "execution_count": null,
   "metadata": {},
   "outputs": [],
   "source": [
    "import hashlib\n",
    "import datetime\n",
    "import json\n",
    "\n",
    "def resetTransactions():\n",
    "    with open('./blockchainscan/src/transactions.json', 'w') as outfile:\n",
    "        outfile.write('[]')\n",
    "        outfile.close()\n",
    "\n",
    "def resetBlocks():\n",
    "    with open('./blockchainscan/src/blocks.json', 'w') as outfile:\n",
    "        outfile.write('[]')\n",
    "        outfile.close()"
   ]
  },
  {
   "cell_type": "code",
   "execution_count": null,
   "metadata": {},
   "outputs": [],
   "source": [
    "class Transaction:\n",
    "    def __init__(self, sender, receiver, amount):\n",
    "        # your code here\n",
    "        pass\n",
    "    def save(self, blockHash):\n",
    "        self.blockHash = blockHash\n",
    "        with open('./blockchainscan/src/transactions.json', 'r') as openfile:\n",
    "            json_object = json.load(openfile)\n",
    "        json_object.append(self.__dict__)\n",
    "        with open(\"./blockchainscan/src/transactions.json\", \"w\") as outfile:\n",
    "            json.dump(json_object, outfile)"
   ]
  },
  {
   "cell_type": "code",
   "execution_count": null,
   "metadata": {},
   "outputs": [],
   "source": [
    "class Block:\n",
    "    def __init__(self, previous_block_hash, transaction_list):\n",
    "        self.block_data = f\"{' - '.join(map(lambda x: x.hash, transaction_list))} - {previous_block_hash}\"\n",
    "        # your code here\n",
    "\n",
    "        \n",
    "        with open('./blockchainscan/src/blocks.json', 'r') as openfile:\n",
    "            json_object = json.load(openfile)\n",
    "        dict = {\n",
    "            \"hash\": self.block_hash,\n",
    "            \"previous_block\": self.previous_block_hash,\n",
    "            \"transactions\": list(map(lambda x: x.__dict__, self.transaction_list)),\n",
    "            \"date\": self.date\n",
    "        }\n",
    "        json_object.append(dict)\n",
    "        with open(\"./blockchainscan/src/blocks.json\", \"w\") as outfile:\n",
    "            json.dump(json_object, outfile)"
   ]
  },
  {
   "cell_type": "code",
   "execution_count": null,
   "metadata": {},
   "outputs": [],
   "source": [
    "class Blockchain:\n",
    "    def __init__(self):\n",
    "        self.chain = []\n",
    "        self.generate_genesis_block()\n",
    "\n",
    "    def generate_genesis_block(self):\n",
    "        # your code here\n",
    "        pass\n",
    "    \n",
    "    def create_block_from_transactions(self, transaction_list):\n",
    "        # your code here\n",
    "        pass\n",
    "\n",
    "    def display_chain(self):\n",
    "        for i in range(len(self.chain)):\n",
    "            print(f\"Data {i + 1}: {self.chain[i].block_data}\")\n",
    "            print(f\"Hash {i + 1}: {self.chain[i].block_hash}\\n\")\n",
    "\n",
    "    @property\n",
    "    def last_block(self):\n",
    "        return self.chain[-1]"
   ]
  },
  {
   "cell_type": "code",
   "execution_count": null,
   "metadata": {},
   "outputs": [],
   "source": [
    "resetBlocks()\n",
    "resetTransactions()\n",
    "\n",
    "myblockchain = Blockchain()"
   ]
  }
 ],
 "metadata": {
  "kernelspec": {
   "display_name": "Python 3.9.12 64-bit",
   "language": "python",
   "name": "python3"
  },
  "language_info": {
   "codemirror_mode": {
    "name": "ipython",
    "version": 3
   },
   "file_extension": ".py",
   "mimetype": "text/x-python",
   "name": "python",
   "nbconvert_exporter": "python",
   "pygments_lexer": "ipython3",
   "version": "3.9.12"
  },
  "orig_nbformat": 4,
  "vscode": {
   "interpreter": {
    "hash": "aee8b7b246df8f9039afb4144a1f6fd8d2ca17a180786b69acc140d282b71a49"
   }
  }
 },
 "nbformat": 4,
 "nbformat_minor": 2
}
